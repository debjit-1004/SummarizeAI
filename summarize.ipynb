{
  "nbformat": 4,
  "nbformat_minor": 0,
  "metadata": {
    "colab": {
      "provenance": [],
      "authorship_tag": "ABX9TyPtjZkmGIKwPRK1kxOYvLjp",
      "include_colab_link": true
    },
    "kernelspec": {
      "name": "python3",
      "display_name": "Python 3"
    },
    "language_info": {
      "name": "python"
    }
  },
  "cells": [
    {
      "cell_type": "markdown",
      "metadata": {
        "id": "view-in-github",
        "colab_type": "text"
      },
      "source": [
        "<a href=\"https://colab.research.google.com/github/debjit-1004/SummarizeAI/blob/main/summarize.ipynb\" target=\"_parent\"><img src=\"https://colab.research.google.com/assets/colab-badge.svg\" alt=\"Open In Colab\"/></a>"
      ]
    },
    {
      "cell_type": "code",
      "execution_count": 14,
      "metadata": {
        "colab": {
          "base_uri": "https://localhost:8080/"
        },
        "id": "GPBAzipTCbPQ",
        "outputId": "31bad7f9-85c3-4584-9134-152fc62f677f"
      },
      "outputs": [
        {
          "output_type": "stream",
          "name": "stdout",
          "text": [
            "Extractive Summary:\n",
            "“Checkmate, bitch,” I exclaim as I do a victory dance that’s comprised of fist pumps and ass wiggles in my chair. While East Robinsville isn’t New York or Miami, we’re more of a Northeastern suburb of . . . well, everything in between.\n",
            "\n",
            "Abstractive Summary:\n",
            "“Checkmate, bitch,” I exclaim as I do a victory dance that’s comprised of fist pumps and ass wiggles in my chair while my best friend Elise laughs at me. “You go, girl. Winner, winner, chicken dinner\n"
          ]
        }
      ],
      "source": [
        "from transformers import pipeline, BartTokenizer, BartForConditionalGeneration\n",
        "\n",
        "def extractive_summary(text):\n",
        "    # Specify the model for extractive summarization\n",
        "    summarizer = pipeline(\"summarization\", model=\"facebook/bart-large-cnn\")\n",
        "    summary = summarizer(text, max_length=100, min_length=50, do_sample=False)\n",
        "    return summary[0]['summary_text']\n",
        "\n",
        "def abstractive_summary(text):\n",
        "    model_name = \"facebook/bart-large-cnn\"\n",
        "    tokenizer = BartTokenizer.from_pretrained(model_name)\n",
        "    model = BartForConditionalGeneration.from_pretrained(model_name)\n",
        "\n",
        "    inputs = tokenizer.encode(\"summarize: \" + text, return_tensors=\"pt\", max_length=1024, truncation=True)\n",
        "    summary_ids = model.generate(inputs, max_length=150, min_length=50, length_penalty=2.0, num_beams=4, early_stopping=True)\n",
        "    summary = tokenizer.decode(summary_ids[0], skip_special_tokens=True)\n",
        "    arr_summary=summary.split('.')\n",
        "    arr_summary.pop()\n",
        "    arr_summary.pop()\n",
        "    summary='.'.join(arr_summary)\n",
        "    return summary\n",
        "\n",
        "if __name__ == \"__main__\":\n",
        "    text = \"\"\"\n",
        "“Checkmate, bitch,”I exclaim as I do a victory dance that’s comprised of fist pumps and ass wiggles in my chair while my best friend Elise laughs at me. I turn in my seat and start doing a little half-stepping Rockettes dance. “Can-can, I just kicked some can-can, I so am the wo-man, and I rule this place!”\n",
        "\n",
        "Elise does a little finger dance herself, cheering along with me. “You go, girl. Winner, winner, chicken dinner. Now let’s eat!”\n",
        "\n",
        "I laugh with her, joyful in celebrating my new promotion at work, regardless of the dirty looks the snooty ladies at the next table are shooting our way. I get their looks. I mean, we are in the best restaurant in the city. While East Robinsville isn’t New York or Miami, we’re more of a Northeastern suburb of . . . well, everything in between. This just isn’t the sort of restaurant where five-foot-two-inch women in work clothes go shaking their ass while chanting something akin to a high school cheer.\n",
        "\n",
        "But right now, I give exactly zero fucks\n",
        "    \"\"\"\n",
        "\n",
        "    print(\"Extractive Summary:\")\n",
        "    print(extractive_summary(text))\n",
        "\n",
        "    print(\"\\nAbstractive Summary:\")\n",
        "    print(abstractive_summary(text))\n"
      ]
    }
  ]
}